{
 "cells": [
  {
   "cell_type": "code",
   "execution_count": null,
   "metadata": {
    "vscode": {
     "languageId": "plaintext"
    }
   },
   "outputs": [],
   "source": [
    "# Запуск локальной LLM\n",
    "\n",
    "1. Установи Ollama: https://ollama.ai/download  \n",
    "2. Скачай модель:\n",
    "   ```bash\n",
    "   ollama pull llama3:8b\n"
   ]
  }
 ],
 "metadata": {
  "language_info": {
   "name": "python"
  }
 },
 "nbformat": 4,
 "nbformat_minor": 2
}
