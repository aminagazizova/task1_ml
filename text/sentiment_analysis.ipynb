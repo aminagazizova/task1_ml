{
 "cells": [
  {
   "cell_type": "code",
   "execution_count": null,
   "metadata": {
    "vscode": {
     "languageId": "plaintext"
    }
   },
   "outputs": [],
   "source": [
    "# Анализ тональности текста с Hugging Face\n",
    "from transformers import pipeline\n",
    "\n",
    "analyzer = pipeline(\"sentiment-analysis\", model=\"blanchefort/rubert-base-cased-sentiment\")\n",
    "\n",
    "texts = [\n",
    "    \"Этот проект отличный!\",\n",
    "    \"Мне совсем не понравилось выполнение задания.\"\n",
    "]\n",
    "\n",
    "results = analyzer(texts)\n",
    "for text, res in zip(texts, results):\n",
    "    print(f\"{text} → {res['label']} ({res['score']:.2f})\")\n"
   ]
  }
 ],
 "metadata": {
  "language_info": {
   "name": "python"
  }
 },
 "nbformat": 4,
 "nbformat_minor": 2
}
