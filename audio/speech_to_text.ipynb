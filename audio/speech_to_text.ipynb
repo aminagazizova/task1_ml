{
 "cells": [
  {
   "cell_type": "code",
   "execution_count": null,
   "metadata": {
    "vscode": {
     "languageId": "plaintext"
    }
   },
   "outputs": [],
   "source": [
    "# Распознавание речи с TensorFlow Hub\n",
    "import tensorflow_hub as hub\n",
    "import tensorflow as tf\n",
    "\n",
    "print(\"Загрузка модели...\")\n",
    "model = hub.load(\"https://tfhub.dev/google/yamnet/1\")\n",
    "print(\"Модель успешно загружена!\")\n",
    "\n",
    "# Пример аудио можно добавить позднее\n"
   ]
  }
 ],
 "metadata": {
  "language_info": {
   "name": "python"
  }
 },
 "nbformat": 4,
 "nbformat_minor": 2
}
