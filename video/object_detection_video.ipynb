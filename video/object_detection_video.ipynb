{
 "cells": [
  {
   "cell_type": "code",
   "execution_count": null,
   "metadata": {
    "vscode": {
     "languageId": "plaintext"
    }
   },
   "outputs": [],
   "source": [
    "# Детекция объектов на видео (Hugging Face + OpenCV)\n",
    "from transformers import pipeline\n",
    "import cv2\n",
    "\n",
    "detector = pipeline(\"object-detection\", model=\"facebook/detr-resnet-50\")\n",
    "cap = cv2.VideoCapture(\"video.mp4\")\n",
    "\n",
    "ret, frame = cap.read()\n",
    "if ret:\n",
    "    results = detector(frame)\n",
    "    print(results)\n",
    "cap.release()\n"
   ]
  }
 ],
 "metadata": {
  "language_info": {
   "name": "python"
  }
 },
 "nbformat": 4,
 "nbformat_minor": 2
}
